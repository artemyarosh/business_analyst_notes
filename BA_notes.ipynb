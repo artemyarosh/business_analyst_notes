{
  "nbformat": 4,
  "nbformat_minor": 0,
  "metadata": {
    "colab": {
      "provenance": [],
      "authorship_tag": "ABX9TyPjJIqrKnCgSigvfJ1L6RfV"
    },
    "kernelspec": {
      "name": "python3",
      "display_name": "Python 3"
    },
    "language_info": {
      "name": "python"
    }
  },
  "cells": [
    {
      "cell_type": "code",
      "source": [
        "# Build EAR function\n",
        "\n",
        "def calc_ear(periodic_rate, compounding_frequency):\n",
        "    \"\"\"\n",
        "    Calculates the Effective Annual Rate (EAR).\n",
        "\n",
        "    Parameters:\n",
        "    periodic_rate (float): The periodic interest rate (e.g., monthly rate).\n",
        "    compounding_frequency (int): The number of compounding periods per year.\n",
        "\n",
        "    Returns:\n",
        "    float: The Effective Annual Rate (EAR).\n",
        "    \"\"\"\n",
        "    ear = (1 + periodic_rate/compounding_frequency) ** compounding_frequency - 1\n",
        "    return ear"
      ],
      "metadata": {
        "id": "yRfwj-sXaZWj"
      },
      "execution_count": 1,
      "outputs": []
    },
    {
      "cell_type": "code",
      "source": [
        "calc_ear(0.12,1)"
      ],
      "metadata": {
        "id": "zM1QyvP6dPl-",
        "colab": {
          "base_uri": "https://localhost:8080/"
        },
        "outputId": "37161102-f6d9-4c7c-cb38-84253e9e6238"
      },
      "execution_count": 2,
      "outputs": [
        {
          "output_type": "execute_result",
          "data": {
            "text/plain": [
              "0.1200000000000001"
            ]
          },
          "metadata": {},
          "execution_count": 2
        }
      ]
    },
    {
      "cell_type": "code",
      "source": [
        "#Computing EARs for a range of compounding frequencies\n",
        "calc_ear(0.06,2)\n",
        "calculate_ear(0.06,4)\n",
        "monthly_ear = calculate_ear(0.06,12)\n",
        "daily_ear = calculate_ear(0.06,365)\n",
        "\n",
        "print(semiannual_ear)\n",
        "print(quarterly_ear)\n",
        "print(monthly_ear)\n",
        "print(daily_ear)"
      ],
      "metadata": {
        "colab": {
          "base_uri": "https://localhost:8080/"
        },
        "id": "j9goQk5xGB9K",
        "outputId": "27b40aa6-3faa-4306-9bf8-6afa18d95841"
      },
      "execution_count": null,
      "outputs": [
        {
          "output_type": "stream",
          "name": "stdout",
          "text": [
            "0.060899999999999954\n",
            "0.06136355062499965\n",
            "0.06167781186449828\n",
            "0.061831310677852525\n"
          ]
        }
      ]
    },
    {
      "cell_type": "code",
      "source": [
        "2500*calculate_ear(0.08, 8)"
      ],
      "metadata": {
        "colab": {
          "base_uri": "https://localhost:8080/"
        },
        "id": "mBlGwKFzGeqm",
        "outputId": "768c4b5a-7203-4950-f245-e2d55a93d578"
      },
      "execution_count": null,
      "outputs": [
        {
          "output_type": "execute_result",
          "data": {
            "text/plain": [
              "207.14176407020057"
            ]
          },
          "metadata": {},
          "execution_count": 39
        }
      ]
    },
    {
      "cell_type": "code",
      "source": [
        "calculate_ear(0.18, 12)"
      ],
      "metadata": {
        "colab": {
          "base_uri": "https://localhost:8080/"
        },
        "id": "0e18v3jWI9o_",
        "outputId": "de5c2dff-1827-4f64-eeb3-bfb3ba423fe5"
      },
      "execution_count": null,
      "outputs": [
        {
          "output_type": "execute_result",
          "data": {
            "text/plain": [
              "1.195618171461534"
            ]
          },
          "metadata": {},
          "execution_count": 52
        }
      ]
    },
    {
      "cell_type": "code",
      "source": [
        "def future_value(principal, years, periodic_rate, m):\n",
        "    \"\"\"\n",
        "    Parameters:\n",
        "    principal (int): the initial investment amount\n",
        "    years (int): the number of years to invest\n",
        "\n",
        "    Returns:\n",
        "    float: The future value of the investment.\n",
        "    \"\"\"\n",
        "    # Calculate the Effective Annual Rate (EAR) using the calculate_ear function\n",
        "    def calculate_ear(periodic_rate, m):\n",
        "        \"\"\"\n",
        "        Parameters:\n",
        "        periodic_rate (float): stated annual rate/m\n",
        "        m (int): the number of compounding periods per year\n",
        "\n",
        "        Returns:\n",
        "        float: The Effective Annual Rate (EAR).\n",
        "        \"\"\"\n",
        "        ear = (1 + periodic_rate/m) ** m\n",
        "        return ear\n",
        "\n",
        "    # Calculate the future value\n",
        "    ear = calculate_ear(periodic_rate, m)\n",
        "    fv = principal * ear ** years\n",
        "\n",
        "    return fv"
      ],
      "metadata": {
        "id": "gnp944HvJKfx"
      },
      "execution_count": null,
      "outputs": []
    },
    {
      "cell_type": "code",
      "source": [
        "def calc_fv(principal, years, periodic_rate, compounding_frequency):\n",
        "    \"\"\"\n",
        "    Calculates the future value of an investment.\n",
        "\n",
        "    Parameters:\n",
        "    principal (float): The initial investment amount.\n",
        "    years (int): The number of years to invest.\n",
        "    periodic_rate (float): The periodic interest rate (e.g., monthly rate).\n",
        "    compounding_frequency (int): The number of compounding periods per year.\n",
        "\n",
        "    Returns:\n",
        "    float: The future value of the investment.\n",
        "    \"\"\"\n",
        "\n",
        "    def calc_ear(periodic_rate, compounding_frequency):\n",
        "        \"\"\"\n",
        "        Calculates the Effective Annual Rate (EAR).\n",
        "\n",
        "        Parameters:\n",
        "        periodic_rate (float): The periodic interest rate.\n",
        "        compounding_frequency (int): The number of compounding periods per year.\n",
        "\n",
        "        Returns:\n",
        "        float: The Effective Annual Rate (EAR).\n",
        "        \"\"\"\n",
        "        ear = (1 + periodic_rate / compounding_frequency) ** compounding_frequency\n",
        "        return ear\n",
        "\n",
        "    # Calculate the future value\n",
        "    ear = calc_ear(periodic_rate, compounding_frequency)\n",
        "    future_value = principal * ear ** years\n",
        "\n",
        "    return future_value"
      ],
      "metadata": {
        "id": "RmAqclnIh5gs"
      },
      "execution_count": null,
      "outputs": []
    },
    {
      "cell_type": "code",
      "source": [
        "future_value(200, 2, 0.08, 1)"
      ],
      "metadata": {
        "colab": {
          "base_uri": "https://localhost:8080/"
        },
        "id": "L1aoyA1kMl3Q",
        "outputId": "77907318-cb20-4d01-a51d-5773bdca03f4"
      },
      "execution_count": null,
      "outputs": [
        {
          "output_type": "execute_result",
          "data": {
            "text/plain": [
              "233.28000000000003"
            ]
          },
          "metadata": {},
          "execution_count": 10
        }
      ]
    },
    {
      "cell_type": "code",
      "source": [
        "calc_fv(200, 2, 0.08, 1)"
      ],
      "metadata": {
        "id": "j9CxFNm9iWjr",
        "outputId": "3ff8dfda-2f45-492c-99bf-bf46745f80e7",
        "colab": {
          "base_uri": "https://localhost:8080/"
        }
      },
      "execution_count": null,
      "outputs": [
        {
          "output_type": "execute_result",
          "data": {
            "text/plain": [
              "233.28000000000003"
            ]
          },
          "metadata": {},
          "execution_count": 65
        }
      ]
    },
    {
      "cell_type": "code",
      "source": [
        "pv_results = []"
      ],
      "metadata": {
        "id": "tNf9PU2c9z5U"
      },
      "execution_count": null,
      "outputs": []
    },
    {
      "cell_type": "code",
      "source": [
        "def present_value(principal, years, periodic_rate, m):\n",
        "    \"\"\"\n",
        "    Parameters:\n",
        "    principal (int): the initial investment amount\n",
        "    years (int): the number of years to invest\n",
        "\n",
        "    Returns:\n",
        "    float: The future value of the investment.\n",
        "    \"\"\"\n",
        "    # Calculate the Effective Annual Rate (EAR) using the calculate_ear function\n",
        "    def calculate_ear(periodic_rate, m):\n",
        "        \"\"\"\n",
        "        Parameters:\n",
        "        periodic_rate (float): stated annual rate/m\n",
        "        m (int): the number of compounding periods per year\n",
        "\n",
        "        Returns:\n",
        "        float: The Effective Annual Rate (EAR).\n",
        "        \"\"\"\n",
        "        ear = (1 + periodic_rate/m) ** m\n",
        "        return ear\n",
        "\n",
        "    # Calculate the present value\n",
        "    ear = calculate_ear(periodic_rate, m)\n",
        "    pv = principal / ear ** years\n",
        "\n",
        "    return pv"
      ],
      "metadata": {
        "id": "rrJ1XDPJNG6B"
      },
      "execution_count": null,
      "outputs": []
    },
    {
      "cell_type": "code",
      "source": [
        "present_value(242,2,0.1,1)"
      ],
      "metadata": {
        "colab": {
          "base_uri": "https://localhost:8080/"
        },
        "id": "AieSDYJpGkGo",
        "outputId": "52b0c75c-31f3-4a15-a614-e0d06e05add3"
      },
      "execution_count": null,
      "outputs": [
        {
          "output_type": "execute_result",
          "data": {
            "text/plain": [
              "199.99999999999997"
            ]
          },
          "metadata": {},
          "execution_count": 49
        }
      ]
    },
    {
      "cell_type": "code",
      "source": [
        "import pandas as pd\n",
        "# Define compounding periods\n",
        "m_values = [1, 2, 4, 12, 365]\n",
        "\n",
        "# Create an empty list to store results\n",
        "results = []\n",
        "\n",
        "# Calculate and store results\n",
        "for m in m_values:\n",
        "    pv = present_value(principal=200, years=2, periodic_rate=0.10, m=m)\n",
        "    interest_earned = 200 - pv\n",
        "    results.append([m, pv, interest_earned])\n",
        "\n",
        "# Create a Pandas DataFrame\n",
        "df = pd.DataFrame(results, columns=['Compounding_Period', 'Present_Value', 'Interest_Earned'])\n",
        "\n",
        "# Display the DataFrame\n",
        "display(df)"
      ],
      "metadata": {
        "colab": {
          "base_uri": "https://localhost:8080/",
          "height": 206
        },
        "id": "8EhfA-gY_62A",
        "outputId": "9c557a64-5798-4ccd-c041-327cea08b1cb"
      },
      "execution_count": null,
      "outputs": [
        {
          "output_type": "display_data",
          "data": {
            "text/plain": [
              "   Compounding_Period  Present_Value  Interest_Earned\n",
              "0                   1     165.289256        34.710744\n",
              "1                   2     164.540495        35.459505\n",
              "2                   4     164.149314        35.850686\n",
              "3                  12     163.881909        36.118091\n",
              "4                 365     163.750636        36.249364"
            ],
            "text/html": [
              "\n",
              "  <div id=\"df-65856113-9d21-4bfe-94ce-b084e00961e5\" class=\"colab-df-container\">\n",
              "    <div>\n",
              "<style scoped>\n",
              "    .dataframe tbody tr th:only-of-type {\n",
              "        vertical-align: middle;\n",
              "    }\n",
              "\n",
              "    .dataframe tbody tr th {\n",
              "        vertical-align: top;\n",
              "    }\n",
              "\n",
              "    .dataframe thead th {\n",
              "        text-align: right;\n",
              "    }\n",
              "</style>\n",
              "<table border=\"1\" class=\"dataframe\">\n",
              "  <thead>\n",
              "    <tr style=\"text-align: right;\">\n",
              "      <th></th>\n",
              "      <th>Compounding_Period</th>\n",
              "      <th>Present_Value</th>\n",
              "      <th>Interest_Earned</th>\n",
              "    </tr>\n",
              "  </thead>\n",
              "  <tbody>\n",
              "    <tr>\n",
              "      <th>0</th>\n",
              "      <td>1</td>\n",
              "      <td>165.289256</td>\n",
              "      <td>34.710744</td>\n",
              "    </tr>\n",
              "    <tr>\n",
              "      <th>1</th>\n",
              "      <td>2</td>\n",
              "      <td>164.540495</td>\n",
              "      <td>35.459505</td>\n",
              "    </tr>\n",
              "    <tr>\n",
              "      <th>2</th>\n",
              "      <td>4</td>\n",
              "      <td>164.149314</td>\n",
              "      <td>35.850686</td>\n",
              "    </tr>\n",
              "    <tr>\n",
              "      <th>3</th>\n",
              "      <td>12</td>\n",
              "      <td>163.881909</td>\n",
              "      <td>36.118091</td>\n",
              "    </tr>\n",
              "    <tr>\n",
              "      <th>4</th>\n",
              "      <td>365</td>\n",
              "      <td>163.750636</td>\n",
              "      <td>36.249364</td>\n",
              "    </tr>\n",
              "  </tbody>\n",
              "</table>\n",
              "</div>\n",
              "    <div class=\"colab-df-buttons\">\n",
              "\n",
              "  <div class=\"colab-df-container\">\n",
              "    <button class=\"colab-df-convert\" onclick=\"convertToInteractive('df-65856113-9d21-4bfe-94ce-b084e00961e5')\"\n",
              "            title=\"Convert this dataframe to an interactive table.\"\n",
              "            style=\"display:none;\">\n",
              "\n",
              "  <svg xmlns=\"http://www.w3.org/2000/svg\" height=\"24px\" viewBox=\"0 -960 960 960\">\n",
              "    <path d=\"M120-120v-720h720v720H120Zm60-500h600v-160H180v160Zm220 220h160v-160H400v160Zm0 220h160v-160H400v160ZM180-400h160v-160H180v160Zm440 0h160v-160H620v160ZM180-180h160v-160H180v160Zm440 0h160v-160H620v160Z\"/>\n",
              "  </svg>\n",
              "    </button>\n",
              "\n",
              "  <style>\n",
              "    .colab-df-container {\n",
              "      display:flex;\n",
              "      gap: 12px;\n",
              "    }\n",
              "\n",
              "    .colab-df-convert {\n",
              "      background-color: #E8F0FE;\n",
              "      border: none;\n",
              "      border-radius: 50%;\n",
              "      cursor: pointer;\n",
              "      display: none;\n",
              "      fill: #1967D2;\n",
              "      height: 32px;\n",
              "      padding: 0 0 0 0;\n",
              "      width: 32px;\n",
              "    }\n",
              "\n",
              "    .colab-df-convert:hover {\n",
              "      background-color: #E2EBFA;\n",
              "      box-shadow: 0px 1px 2px rgba(60, 64, 67, 0.3), 0px 1px 3px 1px rgba(60, 64, 67, 0.15);\n",
              "      fill: #174EA6;\n",
              "    }\n",
              "\n",
              "    .colab-df-buttons div {\n",
              "      margin-bottom: 4px;\n",
              "    }\n",
              "\n",
              "    [theme=dark] .colab-df-convert {\n",
              "      background-color: #3B4455;\n",
              "      fill: #D2E3FC;\n",
              "    }\n",
              "\n",
              "    [theme=dark] .colab-df-convert:hover {\n",
              "      background-color: #434B5C;\n",
              "      box-shadow: 0px 1px 3px 1px rgba(0, 0, 0, 0.15);\n",
              "      filter: drop-shadow(0px 1px 2px rgba(0, 0, 0, 0.3));\n",
              "      fill: #FFFFFF;\n",
              "    }\n",
              "  </style>\n",
              "\n",
              "    <script>\n",
              "      const buttonEl =\n",
              "        document.querySelector('#df-65856113-9d21-4bfe-94ce-b084e00961e5 button.colab-df-convert');\n",
              "      buttonEl.style.display =\n",
              "        google.colab.kernel.accessAllowed ? 'block' : 'none';\n",
              "\n",
              "      async function convertToInteractive(key) {\n",
              "        const element = document.querySelector('#df-65856113-9d21-4bfe-94ce-b084e00961e5');\n",
              "        const dataTable =\n",
              "          await google.colab.kernel.invokeFunction('convertToInteractive',\n",
              "                                                    [key], {});\n",
              "        if (!dataTable) return;\n",
              "\n",
              "        const docLinkHtml = 'Like what you see? Visit the ' +\n",
              "          '<a target=\"_blank\" href=https://colab.research.google.com/notebooks/data_table.ipynb>data table notebook</a>'\n",
              "          + ' to learn more about interactive tables.';\n",
              "        element.innerHTML = '';\n",
              "        dataTable['output_type'] = 'display_data';\n",
              "        await google.colab.output.renderOutput(dataTable, element);\n",
              "        const docLink = document.createElement('div');\n",
              "        docLink.innerHTML = docLinkHtml;\n",
              "        element.appendChild(docLink);\n",
              "      }\n",
              "    </script>\n",
              "  </div>\n",
              "\n",
              "\n",
              "    <div id=\"df-37ba57b9-98ce-4d28-84f1-847c0baeb9f4\">\n",
              "      <button class=\"colab-df-quickchart\" onclick=\"quickchart('df-37ba57b9-98ce-4d28-84f1-847c0baeb9f4')\"\n",
              "                title=\"Suggest charts\"\n",
              "                style=\"display:none;\">\n",
              "\n",
              "<svg xmlns=\"http://www.w3.org/2000/svg\" height=\"24px\"viewBox=\"0 0 24 24\"\n",
              "     width=\"24px\">\n",
              "    <g>\n",
              "        <path d=\"M19 3H5c-1.1 0-2 .9-2 2v14c0 1.1.9 2 2 2h14c1.1 0 2-.9 2-2V5c0-1.1-.9-2-2-2zM9 17H7v-7h2v7zm4 0h-2V7h2v10zm4 0h-2v-4h2v4z\"/>\n",
              "    </g>\n",
              "</svg>\n",
              "      </button>\n",
              "\n",
              "<style>\n",
              "  .colab-df-quickchart {\n",
              "      --bg-color: #E8F0FE;\n",
              "      --fill-color: #1967D2;\n",
              "      --hover-bg-color: #E2EBFA;\n",
              "      --hover-fill-color: #174EA6;\n",
              "      --disabled-fill-color: #AAA;\n",
              "      --disabled-bg-color: #DDD;\n",
              "  }\n",
              "\n",
              "  [theme=dark] .colab-df-quickchart {\n",
              "      --bg-color: #3B4455;\n",
              "      --fill-color: #D2E3FC;\n",
              "      --hover-bg-color: #434B5C;\n",
              "      --hover-fill-color: #FFFFFF;\n",
              "      --disabled-bg-color: #3B4455;\n",
              "      --disabled-fill-color: #666;\n",
              "  }\n",
              "\n",
              "  .colab-df-quickchart {\n",
              "    background-color: var(--bg-color);\n",
              "    border: none;\n",
              "    border-radius: 50%;\n",
              "    cursor: pointer;\n",
              "    display: none;\n",
              "    fill: var(--fill-color);\n",
              "    height: 32px;\n",
              "    padding: 0;\n",
              "    width: 32px;\n",
              "  }\n",
              "\n",
              "  .colab-df-quickchart:hover {\n",
              "    background-color: var(--hover-bg-color);\n",
              "    box-shadow: 0 1px 2px rgba(60, 64, 67, 0.3), 0 1px 3px 1px rgba(60, 64, 67, 0.15);\n",
              "    fill: var(--button-hover-fill-color);\n",
              "  }\n",
              "\n",
              "  .colab-df-quickchart-complete:disabled,\n",
              "  .colab-df-quickchart-complete:disabled:hover {\n",
              "    background-color: var(--disabled-bg-color);\n",
              "    fill: var(--disabled-fill-color);\n",
              "    box-shadow: none;\n",
              "  }\n",
              "\n",
              "  .colab-df-spinner {\n",
              "    border: 2px solid var(--fill-color);\n",
              "    border-color: transparent;\n",
              "    border-bottom-color: var(--fill-color);\n",
              "    animation:\n",
              "      spin 1s steps(1) infinite;\n",
              "  }\n",
              "\n",
              "  @keyframes spin {\n",
              "    0% {\n",
              "      border-color: transparent;\n",
              "      border-bottom-color: var(--fill-color);\n",
              "      border-left-color: var(--fill-color);\n",
              "    }\n",
              "    20% {\n",
              "      border-color: transparent;\n",
              "      border-left-color: var(--fill-color);\n",
              "      border-top-color: var(--fill-color);\n",
              "    }\n",
              "    30% {\n",
              "      border-color: transparent;\n",
              "      border-left-color: var(--fill-color);\n",
              "      border-top-color: var(--fill-color);\n",
              "      border-right-color: var(--fill-color);\n",
              "    }\n",
              "    40% {\n",
              "      border-color: transparent;\n",
              "      border-right-color: var(--fill-color);\n",
              "      border-top-color: var(--fill-color);\n",
              "    }\n",
              "    60% {\n",
              "      border-color: transparent;\n",
              "      border-right-color: var(--fill-color);\n",
              "    }\n",
              "    80% {\n",
              "      border-color: transparent;\n",
              "      border-right-color: var(--fill-color);\n",
              "      border-bottom-color: var(--fill-color);\n",
              "    }\n",
              "    90% {\n",
              "      border-color: transparent;\n",
              "      border-bottom-color: var(--fill-color);\n",
              "    }\n",
              "  }\n",
              "</style>\n",
              "\n",
              "      <script>\n",
              "        async function quickchart(key) {\n",
              "          const quickchartButtonEl =\n",
              "            document.querySelector('#' + key + ' button');\n",
              "          quickchartButtonEl.disabled = true;  // To prevent multiple clicks.\n",
              "          quickchartButtonEl.classList.add('colab-df-spinner');\n",
              "          try {\n",
              "            const charts = await google.colab.kernel.invokeFunction(\n",
              "                'suggestCharts', [key], {});\n",
              "          } catch (error) {\n",
              "            console.error('Error during call to suggestCharts:', error);\n",
              "          }\n",
              "          quickchartButtonEl.classList.remove('colab-df-spinner');\n",
              "          quickchartButtonEl.classList.add('colab-df-quickchart-complete');\n",
              "        }\n",
              "        (() => {\n",
              "          let quickchartButtonEl =\n",
              "            document.querySelector('#df-37ba57b9-98ce-4d28-84f1-847c0baeb9f4 button');\n",
              "          quickchartButtonEl.style.display =\n",
              "            google.colab.kernel.accessAllowed ? 'block' : 'none';\n",
              "        })();\n",
              "      </script>\n",
              "    </div>\n",
              "\n",
              "  <div id=\"id_36ab50ec-385c-4dcb-b362-7c2ef7e23474\">\n",
              "    <style>\n",
              "      .colab-df-generate {\n",
              "        background-color: #E8F0FE;\n",
              "        border: none;\n",
              "        border-radius: 50%;\n",
              "        cursor: pointer;\n",
              "        display: none;\n",
              "        fill: #1967D2;\n",
              "        height: 32px;\n",
              "        padding: 0 0 0 0;\n",
              "        width: 32px;\n",
              "      }\n",
              "\n",
              "      .colab-df-generate:hover {\n",
              "        background-color: #E2EBFA;\n",
              "        box-shadow: 0px 1px 2px rgba(60, 64, 67, 0.3), 0px 1px 3px 1px rgba(60, 64, 67, 0.15);\n",
              "        fill: #174EA6;\n",
              "      }\n",
              "\n",
              "      [theme=dark] .colab-df-generate {\n",
              "        background-color: #3B4455;\n",
              "        fill: #D2E3FC;\n",
              "      }\n",
              "\n",
              "      [theme=dark] .colab-df-generate:hover {\n",
              "        background-color: #434B5C;\n",
              "        box-shadow: 0px 1px 3px 1px rgba(0, 0, 0, 0.15);\n",
              "        filter: drop-shadow(0px 1px 2px rgba(0, 0, 0, 0.3));\n",
              "        fill: #FFFFFF;\n",
              "      }\n",
              "    </style>\n",
              "    <button class=\"colab-df-generate\" onclick=\"generateWithVariable('df')\"\n",
              "            title=\"Generate code using this dataframe.\"\n",
              "            style=\"display:none;\">\n",
              "\n",
              "  <svg xmlns=\"http://www.w3.org/2000/svg\" height=\"24px\"viewBox=\"0 0 24 24\"\n",
              "       width=\"24px\">\n",
              "    <path d=\"M7,19H8.4L18.45,9,17,7.55,7,17.6ZM5,21V16.75L18.45,3.32a2,2,0,0,1,2.83,0l1.4,1.43a1.91,1.91,0,0,1,.58,1.4,1.91,1.91,0,0,1-.58,1.4L9.25,21ZM18.45,9,17,7.55Zm-12,3A5.31,5.31,0,0,0,4.9,8.1,5.31,5.31,0,0,0,1,6.5,5.31,5.31,0,0,0,4.9,4.9,5.31,5.31,0,0,0,6.5,1,5.31,5.31,0,0,0,8.1,4.9,5.31,5.31,0,0,0,12,6.5,5.46,5.46,0,0,0,6.5,12Z\"/>\n",
              "  </svg>\n",
              "    </button>\n",
              "    <script>\n",
              "      (() => {\n",
              "      const buttonEl =\n",
              "        document.querySelector('#id_36ab50ec-385c-4dcb-b362-7c2ef7e23474 button.colab-df-generate');\n",
              "      buttonEl.style.display =\n",
              "        google.colab.kernel.accessAllowed ? 'block' : 'none';\n",
              "\n",
              "      buttonEl.onclick = () => {\n",
              "        google.colab.notebook.generateWithVariable('df');\n",
              "      }\n",
              "      })();\n",
              "    </script>\n",
              "  </div>\n",
              "\n",
              "    </div>\n",
              "  </div>\n"
            ],
            "application/vnd.google.colaboratory.intrinsic+json": {
              "type": "dataframe",
              "variable_name": "df",
              "summary": "{\n  \"name\": \"df\",\n  \"rows\": 5,\n  \"fields\": [\n    {\n      \"column\": \"Compounding_Period\",\n      \"properties\": {\n        \"dtype\": \"number\",\n        \"std\": 161,\n        \"min\": 1,\n        \"max\": 365,\n        \"num_unique_values\": 5,\n        \"samples\": [\n          2,\n          365,\n          4\n        ],\n        \"semantic_type\": \"\",\n        \"description\": \"\"\n      }\n    },\n    {\n      \"column\": \"Present_Value\",\n      \"properties\": {\n        \"dtype\": \"number\",\n        \"std\": 0.619128757047001,\n        \"min\": 163.75063605371778,\n        \"max\": 165.2892561983471,\n        \"num_unique_values\": 5,\n        \"samples\": [\n          164.5404949583764,\n          163.75063605371778,\n          164.14931416261842\n        ],\n        \"semantic_type\": \"\",\n        \"description\": \"\"\n      }\n    },\n    {\n      \"column\": \"Interest_Earned\",\n      \"properties\": {\n        \"dtype\": \"number\",\n        \"std\": 0.619128757047001,\n        \"min\": 34.71074380165291,\n        \"max\": 36.249363946282216,\n        \"num_unique_values\": 5,\n        \"samples\": [\n          35.4595050416236,\n          36.249363946282216,\n          35.850685837381576\n        ],\n        \"semantic_type\": \"\",\n        \"description\": \"\"\n      }\n    }\n  ]\n}"
            }
          },
          "metadata": {}
        }
      ]
    },
    {
      "cell_type": "code",
      "source": [
        "def present_value_dynamic(principal, years, periodic_rate, m):\n",
        "\n",
        "    def calculate_ear(periodic_rate, m):\n",
        "        ear = (1 + periodic_rate / m) ** m\n",
        "        return ear\n",
        "\n",
        "    # Total number of periods\n",
        "    # Convert years to an integer to ensure total_periods is an integer\n",
        "    total_periods = int(years * m)\n",
        "\n",
        "    # Initialize lists to store values\n",
        "    periods = []\n",
        "    present_values = []  # Changed from principals to present_values\n",
        "    interests_earned = []\n",
        "\n",
        "    # Starting principal\n",
        "    current_principal = principal\n",
        "\n",
        "    # Effective Annual Rate\n",
        "    ear = calculate_ear(periodic_rate, m)\n",
        "\n",
        "    # Loop through each period\n",
        "    for period in range(1, total_periods + 1):\n",
        "        # Calculate the present value for the current period\n",
        "        pv = principal / (ear ** (period / m))  # Calculate PV for each period\n",
        "\n",
        "        # Calculate interest earned for the period\n",
        "        interest_earned = principal - pv  # Interest earned is principal - PV\n",
        "        present_values.append(pv)\n",
        "        interests_earned.append(interest_earned)\n",
        "        periods.append(period)\n",
        "\n",
        "    # Create DataFrame from the lists\n",
        "    df = pd.DataFrame({\n",
        "        'Period': periods,\n",
        "        'Present_Value': present_values,\n",
        "        'Interest_Earned': interests_earned,\n",
        "    })\n",
        "\n",
        "    return df"
      ],
      "metadata": {
        "id": "fq6OrRKnBNnn"
      },
      "execution_count": null,
      "outputs": []
    },
    {
      "cell_type": "code",
      "source": [
        "present_value_dynamic(242,2,0.1,1)"
      ],
      "metadata": {
        "colab": {
          "base_uri": "https://localhost:8080/",
          "height": 112
        },
        "id": "7SJTf9tGEYXO",
        "outputId": "6eb9da3d-bcbb-4a8b-978f-0d25c599faba"
      },
      "execution_count": null,
      "outputs": [
        {
          "output_type": "execute_result",
          "data": {
            "text/plain": [
              "   Period  Present_Value  Interest_Earned\n",
              "0       1          220.0             22.0\n",
              "1       2          200.0             42.0"
            ],
            "text/html": [
              "\n",
              "  <div id=\"df-95893fdd-6c52-45c3-88a1-602ccdf4f48f\" class=\"colab-df-container\">\n",
              "    <div>\n",
              "<style scoped>\n",
              "    .dataframe tbody tr th:only-of-type {\n",
              "        vertical-align: middle;\n",
              "    }\n",
              "\n",
              "    .dataframe tbody tr th {\n",
              "        vertical-align: top;\n",
              "    }\n",
              "\n",
              "    .dataframe thead th {\n",
              "        text-align: right;\n",
              "    }\n",
              "</style>\n",
              "<table border=\"1\" class=\"dataframe\">\n",
              "  <thead>\n",
              "    <tr style=\"text-align: right;\">\n",
              "      <th></th>\n",
              "      <th>Period</th>\n",
              "      <th>Present_Value</th>\n",
              "      <th>Interest_Earned</th>\n",
              "    </tr>\n",
              "  </thead>\n",
              "  <tbody>\n",
              "    <tr>\n",
              "      <th>0</th>\n",
              "      <td>1</td>\n",
              "      <td>220.0</td>\n",
              "      <td>22.0</td>\n",
              "    </tr>\n",
              "    <tr>\n",
              "      <th>1</th>\n",
              "      <td>2</td>\n",
              "      <td>200.0</td>\n",
              "      <td>42.0</td>\n",
              "    </tr>\n",
              "  </tbody>\n",
              "</table>\n",
              "</div>\n",
              "    <div class=\"colab-df-buttons\">\n",
              "\n",
              "  <div class=\"colab-df-container\">\n",
              "    <button class=\"colab-df-convert\" onclick=\"convertToInteractive('df-95893fdd-6c52-45c3-88a1-602ccdf4f48f')\"\n",
              "            title=\"Convert this dataframe to an interactive table.\"\n",
              "            style=\"display:none;\">\n",
              "\n",
              "  <svg xmlns=\"http://www.w3.org/2000/svg\" height=\"24px\" viewBox=\"0 -960 960 960\">\n",
              "    <path d=\"M120-120v-720h720v720H120Zm60-500h600v-160H180v160Zm220 220h160v-160H400v160Zm0 220h160v-160H400v160ZM180-400h160v-160H180v160Zm440 0h160v-160H620v160ZM180-180h160v-160H180v160Zm440 0h160v-160H620v160Z\"/>\n",
              "  </svg>\n",
              "    </button>\n",
              "\n",
              "  <style>\n",
              "    .colab-df-container {\n",
              "      display:flex;\n",
              "      gap: 12px;\n",
              "    }\n",
              "\n",
              "    .colab-df-convert {\n",
              "      background-color: #E8F0FE;\n",
              "      border: none;\n",
              "      border-radius: 50%;\n",
              "      cursor: pointer;\n",
              "      display: none;\n",
              "      fill: #1967D2;\n",
              "      height: 32px;\n",
              "      padding: 0 0 0 0;\n",
              "      width: 32px;\n",
              "    }\n",
              "\n",
              "    .colab-df-convert:hover {\n",
              "      background-color: #E2EBFA;\n",
              "      box-shadow: 0px 1px 2px rgba(60, 64, 67, 0.3), 0px 1px 3px 1px rgba(60, 64, 67, 0.15);\n",
              "      fill: #174EA6;\n",
              "    }\n",
              "\n",
              "    .colab-df-buttons div {\n",
              "      margin-bottom: 4px;\n",
              "    }\n",
              "\n",
              "    [theme=dark] .colab-df-convert {\n",
              "      background-color: #3B4455;\n",
              "      fill: #D2E3FC;\n",
              "    }\n",
              "\n",
              "    [theme=dark] .colab-df-convert:hover {\n",
              "      background-color: #434B5C;\n",
              "      box-shadow: 0px 1px 3px 1px rgba(0, 0, 0, 0.15);\n",
              "      filter: drop-shadow(0px 1px 2px rgba(0, 0, 0, 0.3));\n",
              "      fill: #FFFFFF;\n",
              "    }\n",
              "  </style>\n",
              "\n",
              "    <script>\n",
              "      const buttonEl =\n",
              "        document.querySelector('#df-95893fdd-6c52-45c3-88a1-602ccdf4f48f button.colab-df-convert');\n",
              "      buttonEl.style.display =\n",
              "        google.colab.kernel.accessAllowed ? 'block' : 'none';\n",
              "\n",
              "      async function convertToInteractive(key) {\n",
              "        const element = document.querySelector('#df-95893fdd-6c52-45c3-88a1-602ccdf4f48f');\n",
              "        const dataTable =\n",
              "          await google.colab.kernel.invokeFunction('convertToInteractive',\n",
              "                                                    [key], {});\n",
              "        if (!dataTable) return;\n",
              "\n",
              "        const docLinkHtml = 'Like what you see? Visit the ' +\n",
              "          '<a target=\"_blank\" href=https://colab.research.google.com/notebooks/data_table.ipynb>data table notebook</a>'\n",
              "          + ' to learn more about interactive tables.';\n",
              "        element.innerHTML = '';\n",
              "        dataTable['output_type'] = 'display_data';\n",
              "        await google.colab.output.renderOutput(dataTable, element);\n",
              "        const docLink = document.createElement('div');\n",
              "        docLink.innerHTML = docLinkHtml;\n",
              "        element.appendChild(docLink);\n",
              "      }\n",
              "    </script>\n",
              "  </div>\n",
              "\n",
              "\n",
              "    <div id=\"df-911b8777-4709-4910-a83c-2dda77db52f4\">\n",
              "      <button class=\"colab-df-quickchart\" onclick=\"quickchart('df-911b8777-4709-4910-a83c-2dda77db52f4')\"\n",
              "                title=\"Suggest charts\"\n",
              "                style=\"display:none;\">\n",
              "\n",
              "<svg xmlns=\"http://www.w3.org/2000/svg\" height=\"24px\"viewBox=\"0 0 24 24\"\n",
              "     width=\"24px\">\n",
              "    <g>\n",
              "        <path d=\"M19 3H5c-1.1 0-2 .9-2 2v14c0 1.1.9 2 2 2h14c1.1 0 2-.9 2-2V5c0-1.1-.9-2-2-2zM9 17H7v-7h2v7zm4 0h-2V7h2v10zm4 0h-2v-4h2v4z\"/>\n",
              "    </g>\n",
              "</svg>\n",
              "      </button>\n",
              "\n",
              "<style>\n",
              "  .colab-df-quickchart {\n",
              "      --bg-color: #E8F0FE;\n",
              "      --fill-color: #1967D2;\n",
              "      --hover-bg-color: #E2EBFA;\n",
              "      --hover-fill-color: #174EA6;\n",
              "      --disabled-fill-color: #AAA;\n",
              "      --disabled-bg-color: #DDD;\n",
              "  }\n",
              "\n",
              "  [theme=dark] .colab-df-quickchart {\n",
              "      --bg-color: #3B4455;\n",
              "      --fill-color: #D2E3FC;\n",
              "      --hover-bg-color: #434B5C;\n",
              "      --hover-fill-color: #FFFFFF;\n",
              "      --disabled-bg-color: #3B4455;\n",
              "      --disabled-fill-color: #666;\n",
              "  }\n",
              "\n",
              "  .colab-df-quickchart {\n",
              "    background-color: var(--bg-color);\n",
              "    border: none;\n",
              "    border-radius: 50%;\n",
              "    cursor: pointer;\n",
              "    display: none;\n",
              "    fill: var(--fill-color);\n",
              "    height: 32px;\n",
              "    padding: 0;\n",
              "    width: 32px;\n",
              "  }\n",
              "\n",
              "  .colab-df-quickchart:hover {\n",
              "    background-color: var(--hover-bg-color);\n",
              "    box-shadow: 0 1px 2px rgba(60, 64, 67, 0.3), 0 1px 3px 1px rgba(60, 64, 67, 0.15);\n",
              "    fill: var(--button-hover-fill-color);\n",
              "  }\n",
              "\n",
              "  .colab-df-quickchart-complete:disabled,\n",
              "  .colab-df-quickchart-complete:disabled:hover {\n",
              "    background-color: var(--disabled-bg-color);\n",
              "    fill: var(--disabled-fill-color);\n",
              "    box-shadow: none;\n",
              "  }\n",
              "\n",
              "  .colab-df-spinner {\n",
              "    border: 2px solid var(--fill-color);\n",
              "    border-color: transparent;\n",
              "    border-bottom-color: var(--fill-color);\n",
              "    animation:\n",
              "      spin 1s steps(1) infinite;\n",
              "  }\n",
              "\n",
              "  @keyframes spin {\n",
              "    0% {\n",
              "      border-color: transparent;\n",
              "      border-bottom-color: var(--fill-color);\n",
              "      border-left-color: var(--fill-color);\n",
              "    }\n",
              "    20% {\n",
              "      border-color: transparent;\n",
              "      border-left-color: var(--fill-color);\n",
              "      border-top-color: var(--fill-color);\n",
              "    }\n",
              "    30% {\n",
              "      border-color: transparent;\n",
              "      border-left-color: var(--fill-color);\n",
              "      border-top-color: var(--fill-color);\n",
              "      border-right-color: var(--fill-color);\n",
              "    }\n",
              "    40% {\n",
              "      border-color: transparent;\n",
              "      border-right-color: var(--fill-color);\n",
              "      border-top-color: var(--fill-color);\n",
              "    }\n",
              "    60% {\n",
              "      border-color: transparent;\n",
              "      border-right-color: var(--fill-color);\n",
              "    }\n",
              "    80% {\n",
              "      border-color: transparent;\n",
              "      border-right-color: var(--fill-color);\n",
              "      border-bottom-color: var(--fill-color);\n",
              "    }\n",
              "    90% {\n",
              "      border-color: transparent;\n",
              "      border-bottom-color: var(--fill-color);\n",
              "    }\n",
              "  }\n",
              "</style>\n",
              "\n",
              "      <script>\n",
              "        async function quickchart(key) {\n",
              "          const quickchartButtonEl =\n",
              "            document.querySelector('#' + key + ' button');\n",
              "          quickchartButtonEl.disabled = true;  // To prevent multiple clicks.\n",
              "          quickchartButtonEl.classList.add('colab-df-spinner');\n",
              "          try {\n",
              "            const charts = await google.colab.kernel.invokeFunction(\n",
              "                'suggestCharts', [key], {});\n",
              "          } catch (error) {\n",
              "            console.error('Error during call to suggestCharts:', error);\n",
              "          }\n",
              "          quickchartButtonEl.classList.remove('colab-df-spinner');\n",
              "          quickchartButtonEl.classList.add('colab-df-quickchart-complete');\n",
              "        }\n",
              "        (() => {\n",
              "          let quickchartButtonEl =\n",
              "            document.querySelector('#df-911b8777-4709-4910-a83c-2dda77db52f4 button');\n",
              "          quickchartButtonEl.style.display =\n",
              "            google.colab.kernel.accessAllowed ? 'block' : 'none';\n",
              "        })();\n",
              "      </script>\n",
              "    </div>\n",
              "\n",
              "    </div>\n",
              "  </div>\n"
            ],
            "application/vnd.google.colaboratory.intrinsic+json": {
              "type": "dataframe",
              "summary": "{\n  \"name\": \"present_value_dynamic(242,2,0\",\n  \"rows\": 2,\n  \"fields\": [\n    {\n      \"column\": \"Period\",\n      \"properties\": {\n        \"dtype\": \"number\",\n        \"std\": 0,\n        \"min\": 1,\n        \"max\": 2,\n        \"num_unique_values\": 2,\n        \"samples\": [\n          2,\n          1\n        ],\n        \"semantic_type\": \"\",\n        \"description\": \"\"\n      }\n    },\n    {\n      \"column\": \"Present_Value\",\n      \"properties\": {\n        \"dtype\": \"number\",\n        \"std\": 14.142135623730951,\n        \"min\": 199.99999999999997,\n        \"max\": 219.99999999999997,\n        \"num_unique_values\": 2,\n        \"samples\": [\n          199.99999999999997,\n          219.99999999999997\n        ],\n        \"semantic_type\": \"\",\n        \"description\": \"\"\n      }\n    },\n    {\n      \"column\": \"Interest_Earned\",\n      \"properties\": {\n        \"dtype\": \"number\",\n        \"std\": 14.142135623730951,\n        \"min\": 22.00000000000003,\n        \"max\": 42.00000000000003,\n        \"num_unique_values\": 2,\n        \"samples\": [\n          42.00000000000003,\n          22.00000000000003\n        ],\n        \"semantic_type\": \"\",\n        \"description\": \"\"\n      }\n    }\n  ]\n}"
            }
          },
          "metadata": {},
          "execution_count": 58
        }
      ]
    },
    {
      "cell_type": "code",
      "source": [
        "def future_value_dynamic(principal, years, periodic_rate, m):\n",
        "    \"\"\"\n",
        "    Calculates and returns a DataFrame showing the dynamic changes in\n",
        "    principal and interest earned over time for a given compounding frequency.\n",
        "\n",
        "    Parameters:\n",
        "    principal (int): the initial investment amount\n",
        "    years (int): the number of years to invest\n",
        "    periodic_rate (float): stated annual rate/m\n",
        "    m (int): the number of compounding periods per year\n",
        "\n",
        "    Returns:\n",
        "    pd.DataFrame: A DataFrame with columns 'Period', 'Principal', 'Interest_Earned',\n",
        "                  'Total_Value' showing the dynamic changes over time.\n",
        "    \"\"\"\n",
        "\n",
        "    def calculate_ear(periodic_rate, m):\n",
        "        \"\"\"\n",
        "        Calculates the Effective Annual Rate (EAR).\n",
        "        \"\"\"\n",
        "        ear = (1 + periodic_rate/m) ** m\n",
        "        return ear\n",
        "\n",
        "    # Total number of periods\n",
        "    total_periods = int(years * m)\n",
        "\n",
        "    # Initialize lists to store values\n",
        "    periods = []\n",
        "    principals = []\n",
        "    interests_earned = []\n",
        "\n",
        "    # Starting principal\n",
        "    current_principal = principal\n",
        "\n",
        "    # Loop through each period\n",
        "    for period in range(1, total_periods + 1):\n",
        "        # Calculate interest earned for the period\n",
        "        interest_earned = current_principal * (periodic_rate / m)\n",
        "\n",
        "        # Update principal\n",
        "        current_principal += interest_earned\n",
        "\n",
        "        # Append values to lists\n",
        "        periods.append(period)\n",
        "        principals.append(current_principal)\n",
        "        interests_earned.append(interest_earned)\n",
        "\n",
        "    # Create DataFrame from the lists\n",
        "    df = pd.DataFrame({\n",
        "        'Period': periods,\n",
        "        'Principal': principals,\n",
        "        'Interest_Earned': interests_earned,\n",
        "    })\n",
        "\n",
        "    return df"
      ],
      "metadata": {
        "id": "b-DOMpF_FzFc"
      },
      "execution_count": null,
      "outputs": []
    },
    {
      "cell_type": "code",
      "source": [],
      "metadata": {
        "id": "jxEvumR8Ed1l"
      },
      "execution_count": null,
      "outputs": []
    },
    {
      "cell_type": "code",
      "source": [
        "present_value(242, 2, 0.1, 1)"
      ],
      "metadata": {
        "colab": {
          "base_uri": "https://localhost:8080/"
        },
        "id": "rWUXK4QCSLUG",
        "outputId": "a14809c1-53a3-4918-b01a-d5c79346e0f7"
      },
      "execution_count": null,
      "outputs": [
        {
          "output_type": "execute_result",
          "data": {
            "text/plain": [
              "199.99999999999997"
            ]
          },
          "metadata": {},
          "execution_count": 22
        }
      ]
    },
    {
      "cell_type": "code",
      "source": [
        "def pv_annuity(payment, periods, periodic_rate, m):\n",
        "    \"\"\"\n",
        "    Parameters:\n",
        "    principal (int): the initial investment amount\n",
        "    years (int): the number of years to invest\n",
        "\n",
        "    Returns:\n",
        "    float: The future value of the investment.\n",
        "    \"\"\"\n",
        "    # Calculate the Effective Annual Rate (EAR) using the calculate_ear function\n",
        "    def calculate_ear(periodic_rate, m):\n",
        "        \"\"\"\n",
        "        Parameters:\n",
        "        periodic_rate (float): stated annual rate/m\n",
        "        m (int): the number of compounding periods per year\n",
        "\n",
        "        Returns:\n",
        "        float: The Effective Annual Rate (EAR).\n",
        "        \"\"\"\n",
        "        ear = (1 + periodic_rate/m) ** m\n",
        "        return ear\n",
        "\n",
        "    # Calculate the present value\n",
        "    ear = calculate_ear(periodic_rate, m)\n",
        "    pv = payment * (1 - (1 + periodic_rate)**-periods) / periodic_rate\n",
        "\n",
        "    return pv"
      ],
      "metadata": {
        "id": "s9zbdOu_SRKT"
      },
      "execution_count": null,
      "outputs": []
    },
    {
      "cell_type": "code",
      "source": [
        "pv_annuity(100, 3, 0.09, 1 )"
      ],
      "metadata": {
        "colab": {
          "base_uri": "https://localhost:8080/"
        },
        "id": "V-ML0HxlcKpv",
        "outputId": "c948cb36-4ac2-409c-fa55-655690e7c950"
      },
      "execution_count": null,
      "outputs": [
        {
          "output_type": "execute_result",
          "data": {
            "text/plain": [
              "253.12946659881771"
            ]
          },
          "metadata": {},
          "execution_count": 62
        }
      ]
    },
    {
      "cell_type": "code",
      "source": [],
      "metadata": {
        "id": "CsfnjAksccRa"
      },
      "execution_count": null,
      "outputs": []
    }
  ]
}